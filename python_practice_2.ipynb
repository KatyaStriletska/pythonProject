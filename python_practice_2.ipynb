{
  "nbformat": 4,
  "nbformat_minor": 0,
  "metadata": {
    "colab": {
      "provenance": []
    },
    "kernelspec": {
      "name": "python3",
      "display_name": "Python 3"
    },
    "language_info": {
      "name": "python"
    }
  },
  "cells": [
    {
      "cell_type": "markdown",
      "source": [
        "# I. Змінні та памʼять."
      ],
      "metadata": {
        "id": "p9wwt0LZzNvn"
      }
    },
    {
      "cell_type": "markdown",
      "source": [
        "1. Створити змінні, що посилаються на два цілих числа, що однакові за значенням, де значення належить проміжку від -5 до 256. Перевірте, чи будуть ці змінні рівні тільки за значенням або ж ще будуть посилатися на один і той самий обʼєкт в памʼяті? Наведіть код та дайте текстову відповідь нижче."
      ],
      "metadata": {
        "id": "HTJrrm95xSV9"
      }
    },
    {
      "cell_type": "code",
      "execution_count": null,
      "metadata": {
        "id": "TATni2vzayjG",
        "colab": {
          "base_uri": "https://localhost:8080/"
        },
        "outputId": "06db633f-36dc-471e-a5d9-53f3a75b5f7c"
      },
      "outputs": [
        {
          "output_type": "stream",
          "name": "stdout",
          "text": [
            "10\n",
            "10\n",
            "Do the variables have the same value? True\n",
            "Do the variables refer to the same object in memory? True\n"
          ]
        }
      ],
      "source": [
        "a = 10;\n",
        "b = 10;\n",
        "print(a);\n",
        "print(b);\n",
        "print(\"Do the variables have the same value?\", (a==b));\n",
        "print(\"Do the variables refer to the same object in memory?\", (id(a)==id(b)));"
      ]
    },
    {
      "cell_type": "markdown",
      "source": [
        "*місце для текстової відповіді\n",
        "\n",
        "Отже, змінні будуть однакові як за значенням так і за посиланням. Адже в Python для оптимізації використання пам'яті буде створено один об'єкт, який містить значення '10'. Відповідно змінні 'a' та 'b' посилатимуться на один і той самий об'єкт в пам'яті. За допомогою цього покращується робота програми та економиться пам'ять."
      ],
      "metadata": {
        "id": "zfRG_o3WbRdg"
      }
    },
    {
      "cell_type": "markdown",
      "source": [
        "2. За допомогою якої функції можна перевірити належність змінної до вказаного типу даних (напр. чи змінна True посилається на значення булевого та цілочисленого типу)?"
      ],
      "metadata": {
        "id": "ISORzt6M3vAt"
      }
    },
    {
      "cell_type": "code",
      "source": [
        "my_bool = True;\n",
        "print(\"Whether a 'True' variable refers to a Boolean value  : \", isinstance(my_bool, bool));\n",
        "print(\"Whether a 'True' variable refers to an integer value : \", isinstance(my_bool, int));"
      ],
      "metadata": {
        "id": "9vL9CFaMbfyo",
        "colab": {
          "base_uri": "https://localhost:8080/"
        },
        "outputId": "539c4ad3-7778-4f12-b15e-7240feb38c5a"
      },
      "execution_count": 1,
      "outputs": [
        {
          "output_type": "stream",
          "name": "stdout",
          "text": [
            "Whether a 'True' variable refers to a Boolean value  :  True\n",
            "Whether a 'True' variable refers to an integer value :  True\n"
          ]
        }
      ]
    },
    {
      "cell_type": "markdown",
      "source": [
        "# II. Цілі числа та числа з рухомою комою"
      ],
      "metadata": {
        "id": "tRxugKAxwYLw"
      }
    },
    {
      "cell_type": "markdown",
      "source": [
        "3. Створити дві змінні, що посилаються на будь-які ціле число та число з рухомою комою та продемонструвати такі арифметичні операції: додавання, віднімання, ділення, множення, ділення без залишку, ділення по модулю, приведення до ступеню. Всі результати операцій вивести на екран."
      ],
      "metadata": {
        "id": "NLHkgd5Gybc8"
      }
    },
    {
      "cell_type": "code",
      "source": [
        "a = 10;\n",
        "b = 1.2;\n",
        "print(\"Addition      (a+b)  = \", a+b);\n",
        "print(\"Subtraction   (a-b)  = \", a-b);\n",
        "print(\"Division      (a/b)  = \", a/b);\n",
        "print(\"Multiplication(a*b)  = \", a*b);\n",
        "print(\"Floor division(a//b) = \", a//b);\n",
        "print(\"Modulus       (a%b)  = \", a%b);\n",
        "print(\"Modulus       (b%a)  = \", b%a);\n",
        "print(\"Exponentiation(b**a) = \", b**a);\n",
        "print(\"Exponentiation(a**b) = \", a**b);\n"
      ],
      "metadata": {
        "id": "nb8u_3pjb2cA",
        "colab": {
          "base_uri": "https://localhost:8080/"
        },
        "outputId": "4e5fb61d-b52f-427b-e5d7-561f1bb54647"
      },
      "execution_count": 4,
      "outputs": [
        {
          "output_type": "stream",
          "name": "stdout",
          "text": [
            "Addition      (a+b)  =  11.2\n",
            "Subtraction   (a-b)  =  8.8\n",
            "Division      (a/b)  =  8.333333333333334\n",
            "Multiplication(a*b)  =  12.0\n",
            "Floor division(a//b) =  8.0\n",
            "Modulus       (a%b)  =  0.40000000000000036\n",
            "Modulus       (b%a)  =  1.2\n",
            "Exponentiation(b**a) =  6.191736422399997\n",
            "Exponentiation(a**b) =  15.848931924611133\n"
          ]
        }
      ]
    },
    {
      "cell_type": "markdown",
      "source": [
        "4. Використовуючи змінні з вправи 3, продемонструйте механізм явного перетворення типів, де числа з рухомою комою перетворюються на цілі числа. Також визначте змінну, що посилається на значення булевого типу і спробуйте явно привести її до цілого числа."
      ],
      "metadata": {
        "id": "1kBClKgPzZnC"
      }
    },
    {
      "cell_type": "code",
      "source": [
        "print(\"Variable 'b' before type conversion = \", b);\n",
        "print(\"Variable 'b' after type conversion  = \", int(b));\n",
        "bool_var = True;\n",
        "bool_var1 = False;\n",
        "print(\"Variable 'bool_var' before type conversion = \", bool_var);\n",
        "print(\"Variable 'bool_var' after type conversion  = \", int(bool_var));\n",
        "\n",
        "print(\"Variable 'bool_var1' before type conversion = \", bool_var1);\n",
        "print(\"Variable 'bool_var1' after type conversion  = \", int(bool_var1));"
      ],
      "metadata": {
        "id": "TbqJbkeUcKsD",
        "colab": {
          "base_uri": "https://localhost:8080/"
        },
        "outputId": "6d59057f-89d2-4700-e941-863dd2b40e34"
      },
      "execution_count": 5,
      "outputs": [
        {
          "output_type": "stream",
          "name": "stdout",
          "text": [
            "Variable 'b' before type conversion =  1.2\n",
            "Variable 'b' after type conversion  =  1\n",
            "Variable 'bool_var' before type conversion =  True\n",
            "Variable 'bool_var' after type conversion  =  1\n",
            "Variable 'bool_var1' before type conversion =  False\n",
            "Variable 'bool_var1' after type conversion  =  0\n"
          ]
        }
      ]
    },
    {
      "cell_type": "markdown",
      "source": [
        "# IІІ. Рядки (String)."
      ],
      "metadata": {
        "id": "EVJ7AflwxrZi"
      }
    },
    {
      "cell_type": "markdown",
      "source": [
        "\n",
        "5. Створити пустий рядок двома різними способами.\n"
      ],
      "metadata": {
        "id": "_s5ECzz9zE61"
      }
    },
    {
      "cell_type": "code",
      "source": [
        "empty_string = \"\";\n",
        "empty_string2 = str();"
      ],
      "metadata": {
        "id": "fkZJHu9Scvc-"
      },
      "execution_count": 6,
      "outputs": []
    },
    {
      "cell_type": "markdown",
      "source": [
        "6. Створити рядок з апострофом. Зробити його сирим. Вивести обидва рядка на екран."
      ],
      "metadata": {
        "id": "4Bdn9J3MzLf_"
      }
    },
    {
      "cell_type": "code",
      "source": [
        "apostrophe_string = 'String with apostrophe : \\' '\n",
        "apostrophe_string1 = r'String with apostrophe : \\' ';\n",
        "print(apostrophe_string)\n",
        "print(apostrophe_string1)"
      ],
      "metadata": {
        "id": "ivji_hsmc0GH",
        "colab": {
          "base_uri": "https://localhost:8080/"
        },
        "outputId": "ac5de738-8b9a-42de-dd55-29684a6faac9"
      },
      "execution_count": 7,
      "outputs": [
        {
          "output_type": "stream",
          "name": "stdout",
          "text": [
            "String with apostrophe : ' \n",
            "String with apostrophe : \\' \n"
          ]
        }
      ]
    },
    {
      "cell_type": "markdown",
      "source": [
        "7. Створити змінну, що буде посилатися на Ваше прізвище латинкою. Створити форматований рядок, який буде мати вигляд \"My surname is ______\", де на місці нижніх підкреслень буде Ваше прізвище зі змінної."
      ],
      "metadata": {
        "id": "bg_d8wM4z8dS"
      }
    },
    {
      "cell_type": "code",
      "source": [
        "my_surname = \"Striletska\";\n",
        "formatted_string = f\"My surname is {my_surname}.\";\n",
        "print(formatted_string);"
      ],
      "metadata": {
        "id": "kuxFgpWndACq",
        "colab": {
          "base_uri": "https://localhost:8080/"
        },
        "outputId": "6c258d0c-d30e-4593-bc81-4d03e0c9a58c"
      },
      "execution_count": 8,
      "outputs": [
        {
          "output_type": "stream",
          "name": "stdout",
          "text": [
            "My surname is Striletska.\n"
          ]
        }
      ]
    },
    {
      "cell_type": "markdown",
      "source": [
        "\n",
        "\n",
        "8. Маючи рядок \"My dog is crazy.\" перетворити його на список [\"my\", \"dog\", \"is\", \"crazy\"]"
      ],
      "metadata": {
        "id": "1Nc6RqvQ0hxU"
      }
    },
    {
      "cell_type": "code",
      "source": [
        "string8 = \"My dog is crazy.\";\n",
        "string8 = string8.replace('.', '');\n",
        "string8 = string8.lower().split();\n",
        "print(string8)"
      ],
      "metadata": {
        "id": "w1Ya4RqedUhw",
        "colab": {
          "base_uri": "https://localhost:8080/"
        },
        "outputId": "462a805b-5a28-4d5c-d7e3-a4db33d252bb"
      },
      "execution_count": 26,
      "outputs": [
        {
          "output_type": "stream",
          "name": "stdout",
          "text": [
            "['my', 'dog', 'is', 'crazy']\n"
          ]
        }
      ]
    },
    {
      "cell_type": "markdown",
      "source": [
        "# IV. Робота зі списками."
      ],
      "metadata": {
        "id": "GYVqN9uP1D4n"
      }
    },
    {
      "cell_type": "markdown",
      "source": [
        "9. Створити список двома різними за синтаксисом способами. За допомогою вбудованої функції обчисліть довжину одного з них."
      ],
      "metadata": {
        "id": "7-DeDunw2sO-"
      }
    },
    {
      "cell_type": "code",
      "source": [
        "my_list1 = ['Monday', 'Thursday', 'Wednesday', 'Thursday', 'Friday'];\n",
        "my_list2 = list(('Saturday', 'Sunday'));\n",
        "print(\"First list length  =\", len(my_list1), \"\\nSecond list length =\", len(my_list2));"
      ],
      "metadata": {
        "id": "zxg06Uuxdyoh",
        "colab": {
          "base_uri": "https://localhost:8080/"
        },
        "outputId": "3f57313f-9862-4a19-939d-f27174dd859c"
      },
      "execution_count": 10,
      "outputs": [
        {
          "output_type": "stream",
          "name": "stdout",
          "text": [
            "First list length  = 5 \n",
            "Second list length = 2\n"
          ]
        }
      ]
    },
    {
      "cell_type": "markdown",
      "source": [
        "10. Створіть два списка та за допомогою спеціального методу додайте другий з них в якості останнього елемента першого.\n",
        "\n",
        "\n",
        "\n"
      ],
      "metadata": {
        "id": "8vmGUTjL22gI"
      }
    },
    {
      "cell_type": "code",
      "source": [
        "my_list3 = [1,2,3,4,5];\n",
        "my_list4 = [6,7,8,9,10];\n",
        "print(\"Lists before action : \\n\",  my_list3, \"\\n\",my_list4)\n",
        "my_list3.append(my_list4);\n",
        "print(\"Lists after action  : \\n\", my_list3, \"\\n\",my_list4)"
      ],
      "metadata": {
        "id": "uHtjWYw7d7hm",
        "colab": {
          "base_uri": "https://localhost:8080/"
        },
        "outputId": "fa62baa1-5d37-4a38-95f8-565193e25aa3"
      },
      "execution_count": 11,
      "outputs": [
        {
          "output_type": "stream",
          "name": "stdout",
          "text": [
            "Lists before action : \n",
            " [1, 2, 3, 4, 5] \n",
            " [6, 7, 8, 9, 10]\n",
            "Lists after action  : \n",
            " [1, 2, 3, 4, 5, [6, 7, 8, 9, 10]] \n",
            " [6, 7, 8, 9, 10]\n"
          ]
        }
      ]
    },
    {
      "cell_type": "markdown",
      "source": [
        "11. Створіть список, де елементами цього списку також є списки. Отримай перший елемент з останнього рядка та виведи значення на екран."
      ],
      "metadata": {
        "id": "JC3BkD-67_--"
      }
    },
    {
      "cell_type": "code",
      "source": [
        "my_list4 = [1,2, 3];\n",
        "my_list5 = [[2, 4, 6, 8], [1, 3, 5], my_list4, [7,8]];\n",
        "print(\"First element from last list = \",my_list5[-1][0]);"
      ],
      "metadata": {
        "id": "Kz2jZHsGeLlz",
        "colab": {
          "base_uri": "https://localhost:8080/"
        },
        "outputId": "7bb14c0a-c8d0-4c14-f56b-8e3d07a60727"
      },
      "execution_count": 12,
      "outputs": [
        {
          "output_type": "stream",
          "name": "stdout",
          "text": [
            "First element from last list =  7\n"
          ]
        }
      ]
    },
    {
      "cell_type": "markdown",
      "source": [
        "12. Створіть список з десяти елементів різного типу. Отримайте всі елементи, окрім двох перших та двох останніх та збережіть їх в новій змінній."
      ],
      "metadata": {
        "id": "JA47PKTv8zFK"
      }
    },
    {
      "cell_type": "code",
      "source": [
        "my_list6 = [1, 5j, True, 'String', 2.2, [10, 20], (\"It\", \" is\", \"tuple\"), {1, 2, 2}, {\"name\": \"Katya\", \"nickname\": \"Katyha\"}, b\"A\"];\n",
        "slised_list = my_list6[2:8];\n",
        "print(slised_list);"
      ],
      "metadata": {
        "id": "_rHdUR-ueP4-",
        "colab": {
          "base_uri": "https://localhost:8080/"
        },
        "outputId": "7d17b54e-0f92-4457-c2c0-bb039a26affb"
      },
      "execution_count": null,
      "outputs": [
        {
          "output_type": "stream",
          "name": "stdout",
          "text": [
            "[True, 'String', 2.2, [10, 20], ('It', ' is', 'tuple'), {1, 2}]\n"
          ]
        }
      ]
    },
    {
      "cell_type": "markdown",
      "source": [
        "# V. Робота з кортежами."
      ],
      "metadata": {
        "id": "pCjR1dJb1Qbi"
      }
    },
    {
      "cell_type": "markdown",
      "source": [
        "14. Створити кортеж з один елементом."
      ],
      "metadata": {
        "id": "fAZCxAX06R_k"
      }
    },
    {
      "cell_type": "code",
      "source": [
        "my_tuple1 = (1,);"
      ],
      "metadata": {
        "id": "H7d82WkQev3e"
      },
      "execution_count": 13,
      "outputs": []
    },
    {
      "cell_type": "markdown",
      "source": [
        "15. Порівняйте список та кортеж. Назвіть схожості та відмінності, випадки використання.\n"
      ],
      "metadata": {
        "id": "8LCtYcmI6w1M"
      }
    },
    {
      "cell_type": "markdown",
      "source": [
        "*місце для текстової відповіді\n",
        "\n",
        "Спільними рисами для типів данних list та tuple є:\n",
        "\n",
        "*   І списки і кортежі допускають дублювання об'єктів.\n",
        "*   Вони підтримують індексацію. Тобто ми можемо в своїй програмі доступатися до елементу за допомогою його індекса.  А також ітеруватися з допомогою циклів.\n",
        "*   List та tuple є впорядкованими - всі елементи мають визначений порядок.\n",
        "*   Обидва типи данних можуть містити в собі інші колекції.\n",
        "*   Також спільними є певні методи такі як : len(), index(), count() та інші.;\n",
        "\n",
        "Відмінними рисами для типів данних list та tuple є:\n",
        "\n",
        "*  Декларація розрізняє list та tuple. Оголошення елементів списку відбувається за допомогою квадратних дужок '[]' або з використанням конструктора 'list()'. А для того щоб створити кортеж потрібно використовувати оголошення за допомогою круглих дужок '()' або конструктора 'tuple()';\n",
        "*  Ще однією відмінністю є те що кортеж є незмінним, тобто після його створення ми не можемо змінювати, додавати або видаляти елементи. В той час як список це змінний тип данних, що дає нам змогу змінювати елементи після його створення.\n",
        "*  Останньою відмінністю є те що кортежі є швидшими ніж списки.\n",
        "\n",
        "Отже, слід використовувати кортеж, якщо ми не плануємо в подальшому змінювати наші елементи. Також кортежі підходять тоді коли нам важлива швидкість виконання адже вони працюють швидше за списки. А тип данних list варто використовувати, якщо нам потрібна взаємодія з елементами списку, тобто динамічно збільшувати чи зменшувати або змінювати послідовність елементів.\n",
        "\n",
        "\n",
        "\n"
      ],
      "metadata": {
        "id": "fUsN1Hnue0C6"
      }
    },
    {
      "cell_type": "markdown",
      "source": [
        "16. Створіть кортеж з 11ти елементів чисел з рухомою комою та отримайте кожен парний за індексом елемент в зворотньому порядку. Наприклад, маючи (1.2, 2.3, 3.3, 4.3, 5.3, 6.3, 7.3, 8.3, 9.3, 0.3), отримати (0.3, 8.3, 6.3, 4.3, 2.3). Результат збережіть в нову змінну та виведіть на екран."
      ],
      "metadata": {
        "id": "m0xrwFijAmDD"
      }
    },
    {
      "cell_type": "code",
      "source": [
        "my_tuple2 =(1.2, 2.3, 3.3, 4.3, 5.3, 6.3, 7.3, 8.3, 9.3, 0.3);\n",
        "print(\"Tuple    : \", my_tuple2)\n",
        "new_tuple = my_tuple2[::-2]\n",
        "print(\"New tuple: \", new_tuple)\n"
      ],
      "metadata": {
        "id": "p-5DAH6XfAGA",
        "colab": {
          "base_uri": "https://localhost:8080/"
        },
        "outputId": "2c8d76dd-78cc-4950-c263-a70830da479d"
      },
      "execution_count": 17,
      "outputs": [
        {
          "output_type": "stream",
          "name": "stdout",
          "text": [
            "Tuple    :  (1.2, 2.3, 3.3, 4.3, 5.3, 6.3, 7.3, 8.3, 9.3, 0.3)\n",
            "New tuple:  (0.3, 8.3, 6.3, 4.3, 2.3)\n"
          ]
        }
      ]
    },
    {
      "cell_type": "markdown",
      "source": [
        "# VI. Множини (Set)."
      ],
      "metadata": {
        "id": "rW_I9dt3x6cW"
      }
    },
    {
      "cell_type": "markdown",
      "source": [
        "17. Створити множину без елементів. Після цого за допомогою методу додайте кілька різних елементів до множини. Чи множини є змінним типом даних?"
      ],
      "metadata": {
        "id": "zNjRLHLw1Bgg"
      }
    },
    {
      "cell_type": "code",
      "source": [
        "my_set = set()\n",
        "my_set.add(1)\n",
        "my_set.add(5)\n",
        "my_set.add(5)\n",
        "my_set.add(3);\n",
        "print(my_set)"
      ],
      "metadata": {
        "id": "KOv7zc2Kfo4N",
        "colab": {
          "base_uri": "https://localhost:8080/"
        },
        "outputId": "aa80bf2d-67c4-4e3a-e0c9-1b981d8462a5"
      },
      "execution_count": null,
      "outputs": [
        {
          "output_type": "stream",
          "name": "stdout",
          "text": [
            "{1, 3, 5}\n"
          ]
        }
      ]
    },
    {
      "cell_type": "markdown",
      "source": [
        "*місце для текстової відповіді\n",
        "\n",
        "Отже, множина set є змінним типом данних, відповідно ми можемо взаємодіяти з елементами колекції, наприклад додавати чи видаляти елементи множини."
      ],
      "metadata": {
        "id": "vxS6dVYiftZQ"
      }
    },
    {
      "cell_type": "markdown",
      "source": [
        "18. Створити множину, маючи список my_list = [1, 1, 2, 67, 67, 8, 9]. Пояснити, чому \"зникли\" деякі елементи."
      ],
      "metadata": {
        "id": "gHpT0Zw_1HEF"
      }
    },
    {
      "cell_type": "code",
      "source": [
        "my_list = [1, 1, 2, 67, 67, 8, 9]\n",
        "my_set = set(my_list);\n",
        "print(my_set)"
      ],
      "metadata": {
        "id": "qCN4uvJ_fxmu",
        "colab": {
          "base_uri": "https://localhost:8080/"
        },
        "outputId": "0eff99c0-dbd7-4e46-b679-026eca69a872"
      },
      "execution_count": null,
      "outputs": [
        {
          "output_type": "stream",
          "name": "stdout",
          "text": [
            "{1, 2, 67, 8, 9}\n"
          ]
        }
      ]
    },
    {
      "cell_type": "markdown",
      "source": [
        "*місце для текстової відповіді\n",
        "\n",
        "Тип данних set завжди зберігає лише унікальні значення. Відповідно коли ми створюємо множину зі списку, повторювальні елементи автоматино будуть видалені. Через це в цьому завдані дубльовані елементи \"зникли\"."
      ],
      "metadata": {
        "id": "tFNc1e20fyny"
      }
    },
    {
      "cell_type": "markdown",
      "source": [
        "19. Створіть дві множини. Продемонстуйте над ними операції: обʼєднання, різниці, пересічі та симетричної різниці. Використовуйте методи, що не змінюють множини, а створюють нові."
      ],
      "metadata": {
        "id": "SRMkGizS1UwY"
      }
    },
    {
      "cell_type": "code",
      "source": [
        "my_set1 = {1, 2, 4 , 6, 7}\n",
        "my_set2 = {7, 6, 9, 10}\n",
        "my_set3 = my_set1.union(my_set2)\n",
        "my_set4 = my_set1.difference(my_set2)\n",
        "my_set4_1 = my_set2.difference(my_set1)\n",
        "my_set5 = my_set1.intersection(my_set2)\n",
        "my_set6 = my_set1.symmetric_difference(my_set2)\n",
        "print(\"First set :\",my_set1)\n",
        "print(\"Second set:\", my_set2)\n",
        "print(\"Union : \", my_set3)\n",
        "print(\"Difference(my_set1-my_set2) : \", my_set4)\n",
        "print(\"Difference(my_set2-my_set1) : \", my_set4_1)\n",
        "print(\"Intersection : \", my_set5)\n",
        "print(\"Symmetric difference : \", my_set6)"
      ],
      "metadata": {
        "id": "h0T-VuDnf3Ri",
        "colab": {
          "base_uri": "https://localhost:8080/"
        },
        "outputId": "48a6afed-7a70-4ef9-c4e4-af287f858caa"
      },
      "execution_count": 19,
      "outputs": [
        {
          "output_type": "stream",
          "name": "stdout",
          "text": [
            "First set : {1, 2, 4, 6, 7}\n",
            "Second set: {9, 10, 6, 7}\n",
            "Union :  {1, 2, 4, 6, 7, 9, 10}\n",
            "Difference(my_set1-my_set2) :  {1, 2, 4}\n",
            "Difference(my_set2-my_set1) :  {9, 10}\n",
            "Intersection :  {6, 7}\n",
            "Symmetric difference :  {1, 2, 4, 9, 10}\n"
          ]
        }
      ]
    },
    {
      "cell_type": "markdown",
      "source": [
        "# VII. Словники (Dictionary)."
      ],
      "metadata": {
        "id": "kWc8gkzTx7Ea"
      }
    },
    {
      "cell_type": "markdown",
      "source": [
        "20. Створіть пустий словник. До нього додайте чотири пари елементів такі, щоб їхні ключі були різних типів. Чи може список бути ключем? Чому?"
      ],
      "metadata": {
        "id": "i5FLwj-B2ybQ"
      }
    },
    {
      "cell_type": "code",
      "source": [
        "bool_var =True;\n",
        "tuple_var = (1,2,3,4);\n",
        "dict_var = {\n",
        "    \"type\" : \"Dictionary\",\n",
        "    19 : \"nineteen\",\n",
        "    tuple_var : (100, 200, 300, 400),\n",
        "    bool_var : int(bool_var),\n",
        "}\n",
        "print(dict_var)"
      ],
      "metadata": {
        "id": "hxgv3BzrgLAV",
        "colab": {
          "base_uri": "https://localhost:8080/"
        },
        "outputId": "2f5cec9c-f64e-4856-dc6b-e228e240213f"
      },
      "execution_count": null,
      "outputs": [
        {
          "output_type": "stream",
          "name": "stdout",
          "text": [
            "{'type': 'Dictionary', 19: 'nineteen', (1, 2, 3, 4): (100, 200, 300, 400), True: 1}\n"
          ]
        }
      ]
    },
    {
      "cell_type": "markdown",
      "source": [
        "*місце для текстової відповіді\n",
        "\n",
        "Список не може бути ключем словника, адже ключами можуть бути тільки незмінні типи данних (тобто int, tuple, str, bool та інші), а список це змінний тип. Саме топу він не можу бути ключем."
      ],
      "metadata": {
        "id": "zwa7UVN-gR3m"
      }
    },
    {
      "cell_type": "markdown",
      "source": [
        "21. Створіть словник, де значенням в одній з пар теж буде словник, який теж має вкладений словник. Виведіть на екран значення, що міститься в словнику, що знаходиться на найнижчому рівні ієрархії вкладеності (найбільш внутрішній)."
      ],
      "metadata": {
        "id": "WM_pMlJsgoNf"
      }
    },
    {
      "cell_type": "code",
      "source": [
        "\n",
        "university = {\n",
        "    \"university name\" : \"NaUKMA\",\n",
        "    \"age\" : 400,\n",
        "    \"student\" :\n",
        "     {\n",
        "         \"name\" : \"Striletska Kateryna\",\n",
        "         \"age\" : 19,\n",
        "         \"ExpectedMarks\" :\n",
        "          {\n",
        "              \"Programing on C#\" : 100,\n",
        "              \"Databases\" : 100,\n",
        "              \"Programing on Python\" : 100\n",
        "              }\n",
        "     }\n",
        "    }\n",
        "print(university[\"student\"][\"ExpectedMarks\"]);"
      ],
      "metadata": {
        "id": "60dlP7IHhAy4",
        "colab": {
          "base_uri": "https://localhost:8080/"
        },
        "outputId": "8426081d-f738-4248-c77e-b1db9171496d"
      },
      "execution_count": 24,
      "outputs": [
        {
          "output_type": "stream",
          "name": "stdout",
          "text": [
            "{'Programing on C#': 100, 'Databases': 100, 'Programing on Python': 100}\n"
          ]
        }
      ]
    },
    {
      "cell_type": "markdown",
      "source": [
        "# Вітаю! Ви велика(ий) молодець, що впоралась(вся). Похваліть себе та побалуйте чимось приємним. Я Вами пишаюся."
      ],
      "metadata": {
        "id": "xOZP0hkx6cCr"
      }
    }
  ]
}