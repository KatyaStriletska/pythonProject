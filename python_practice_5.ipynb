{
  "nbformat": 4,
  "nbformat_minor": 0,
  "metadata": {
    "colab": {
      "provenance": []
    },
    "kernelspec": {
      "name": "python3",
      "display_name": "Python 3"
    },
    "language_info": {
      "name": "python"
    }
  },
  "cells": [
    {
      "cell_type": "markdown",
      "source": [
        "# I. OOP"
      ],
      "metadata": {
        "id": "5qV_sehzFCTp"
      }
    },
    {
      "cell_type": "markdown",
      "source": [
        "1. (6б). Створіть клас Animal, додайте три атрибути, один з яких має значення за замовчуванням та два методи на свій розсуд."
      ],
      "metadata": {
        "id": "tx_U_hOALyfg"
      }
    },
    {
      "cell_type": "code",
      "source": [
        "class Animal:\n",
        "    def __init__(self, age, species, animalsClass = \"Mammal\" ):\n",
        "      self.age = age\n",
        "      self.species = species\n",
        "      self.animalsClass = animalsClass\n",
        "\n",
        "    def __str__(self):\n",
        "      return f\"Animal : {self.species} from {self.animalsClass} is {self.age} y.o.\"\n",
        "\n",
        "    def increaseAge(self):\n",
        "      self.age += 1\n"
      ],
      "metadata": {
        "id": "-Vf895KaL88N"
      },
      "execution_count": null,
      "outputs": []
    },
    {
      "cell_type": "markdown",
      "source": [
        "2. (2б). Створіть два обʼєкти цього класу, де один з обʼєктів створюється із дефолтним значенням атрибуту. На одному обʼєкті отримайте значення його атрибуту, а на іншому викличте один з його методів."
      ],
      "metadata": {
        "id": "X_UlOMB0L93w"
      }
    },
    {
      "cell_type": "code",
      "source": [
        "animal1 = Animal(50, \"Turtle\", \"Reptilia\")\n",
        "animal2 = Animal(12, \"Kow\")\n",
        "print(\"Animal1 : \", animal1.species)\n",
        "print(animal2)"
      ],
      "metadata": {
        "id": "7gBu0ESOMCpG",
        "colab": {
          "base_uri": "https://localhost:8080/"
        },
        "outputId": "f3eee5c9-6db2-4bc1-b86a-ec57ac68f127"
      },
      "execution_count": null,
      "outputs": [
        {
          "output_type": "stream",
          "name": "stdout",
          "text": [
            "Animal1 :  Turtle\n",
            "Animal : Kow from Mammal is 12 y.o.\n"
          ]
        }
      ]
    },
    {
      "cell_type": "markdown",
      "source": [
        "3. (5б). Створіть клас, де атрибути мають різні рівні доступу. Спробуйте отримати їхні значення та опишіть результати."
      ],
      "metadata": {
        "id": "HoqSCZt1MHn5"
      }
    },
    {
      "cell_type": "code",
      "source": [
        "class Person:\n",
        "    def __init__(self, name, age, horoscope ):\n",
        "      self.name = name\n",
        "      self._age = age\n",
        "      self.__horoscope = horoscope\n",
        "\n",
        "    def get_private_attribute(self):\n",
        "      return self.__horoscope\n",
        "\n",
        "\n",
        "p1 = Person(\"Oleg\", 31, \"Pisces\")\n",
        "print(f\"Public atribute => {p1.name}\")\n",
        "print(f\"Protected atribute => {p1._age}\")\n",
        "print(f\"Private atribute => {p1.get_private_attribute()}\")\n",
        "print(f\"Private atribute => {p1.__horoscope}\")"
      ],
      "metadata": {
        "id": "r9b3vJxBMSPV",
        "colab": {
          "base_uri": "https://localhost:8080/",
          "height": 228
        },
        "outputId": "f026e573-ab52-44f6-ab85-8c1cb32b5c1d"
      },
      "execution_count": null,
      "outputs": [
        {
          "output_type": "stream",
          "name": "stdout",
          "text": [
            "Public atribute => Oleg\n",
            "Protected atribute => 31\n",
            "Private atribute => Pisces\n"
          ]
        },
        {
          "output_type": "error",
          "ename": "AttributeError",
          "evalue": "'Person' object has no attribute '__horoscope'",
          "traceback": [
            "\u001b[0;31m---------------------------------------------------------------------------\u001b[0m",
            "\u001b[0;31mAttributeError\u001b[0m                            Traceback (most recent call last)",
            "\u001b[0;32m<ipython-input-29-0144c451b5ad>\u001b[0m in \u001b[0;36m<cell line: 15>\u001b[0;34m()\u001b[0m\n\u001b[1;32m     13\u001b[0m \u001b[0mprint\u001b[0m\u001b[0;34m(\u001b[0m\u001b[0;34mf\"Protected atribute => {p1._age}\"\u001b[0m\u001b[0;34m)\u001b[0m\u001b[0;34m\u001b[0m\u001b[0;34m\u001b[0m\u001b[0m\n\u001b[1;32m     14\u001b[0m \u001b[0mprint\u001b[0m\u001b[0;34m(\u001b[0m\u001b[0;34mf\"Private atribute => {p1.get_private_attribute()}\"\u001b[0m\u001b[0;34m)\u001b[0m\u001b[0;34m\u001b[0m\u001b[0;34m\u001b[0m\u001b[0m\n\u001b[0;32m---> 15\u001b[0;31m \u001b[0mprint\u001b[0m\u001b[0;34m(\u001b[0m\u001b[0;34mf\"Private atribute => {p1.__horoscope}\"\u001b[0m\u001b[0;34m)\u001b[0m\u001b[0;34m\u001b[0m\u001b[0;34m\u001b[0m\u001b[0m\n\u001b[0m",
            "\u001b[0;31mAttributeError\u001b[0m: 'Person' object has no attribute '__horoscope'"
          ]
        }
      ]
    },
    {
      "cell_type": "markdown",
      "source": [
        "Отже, клас містить три атрибути з різними рівнями доступу. \"name\" - public (публічний атрибут), тобто до нього можна доступатися за межами класу. Другий атрибут \"age\" - protected(захищений) це означає що він доступний в межах класу а також доступний для інших класів, які наслідують його. Ми також можемо доступатися до атрибуту і поза межами класу проте краще утримуватися від доступу до такого атрибута ззовні класу. \"horoscope\" - privatе(приватний), до цього атрибуту не можна звертатися поза межами класу, це призведе до помилки AttributeError. Відповідно щоб мати певний доступ до приватного атрибуту потрібно використовувати методи, які матимуть доступ до атрибуту в межах класу."
      ],
      "metadata": {
        "id": "HjswFp0RIuZb"
      }
    },
    {
      "cell_type": "markdown",
      "source": [
        "4. (7б). Як ви розумієте термін self? Для чого використовується метод __init __?"
      ],
      "metadata": {
        "id": "5op2m2vgMSkZ"
      }
    },
    {
      "cell_type": "markdown",
      "source": [
        "self - це посилання на поточний екземпляр класу,завдяки якому ми можемо всередині класу звертатися до функціональності об'єкта.\n",
        "Метод __init __ використовується для під час створення об'єкта для того щоб встановити значення властивостям. Тобто він відіграє роль конструктора для створення нових екземплярів класу."
      ],
      "metadata": {
        "id": "DyiPqNRvMasx"
      }
    },
    {
      "cell_type": "markdown",
      "source": [
        "5. (9б). Створіть клас Фігура без атрибутів, з методом get_area для отримання площі фігури, що повертає 0 та __add __, який приймає self та other в якості аргументів, а повертає суму площин фігур self та other."
      ],
      "metadata": {
        "id": "-6X8EGfjMd2y"
      }
    },
    {
      "cell_type": "code",
      "source": [
        "import math\n",
        "class Figure:\n",
        "  def _get_area(self):\n",
        "    return 0\n",
        "\n",
        "  def __add__(self, other):\n",
        "    return self._get_area() + other._get_area()"
      ],
      "metadata": {
        "id": "4rvO_wYUMaEr"
      },
      "execution_count": null,
      "outputs": []
    },
    {
      "cell_type": "markdown",
      "source": [
        "6. (11б). Створіть 2 дочірніх класи від Фігури: Трикутник та Коло, які мають атрибути, необхідні для розрахунку площин. Визначте метод get_area в кожному з них так, щоби вони розраховували площу в залежності від формули для кожного типу фігури. Створіть обʼєкт класу Трикутник та обʼєкт класу Коло. Виконайте операцію суми за допомогою оператора + між ними."
      ],
      "metadata": {
        "id": "SFcKnnv5Mo_z"
      }
    },
    {
      "cell_type": "code",
      "source": [
        "class Triangle(Figure):\n",
        "  def __init__(self, side_a, side_b, side_c):\n",
        "    self.side_a = side_a\n",
        "    self.side_b = side_b\n",
        "    self.side_c = side_c\n",
        "\n",
        "  def _get_area(self):\n",
        "    super()._get_area()\n",
        "    p = (self.side_a + self.side_b + self.side_c) / 2\n",
        "    return math.sqrt(p * (p - self.side_a) * (p - self.side_b) * (p - self.side_c))\n",
        "\n",
        "\n",
        "class Сircle(Figure):\n",
        "   def __init__(self, radius):\n",
        "    self.radius = radius\n",
        "\n",
        "   def _get_area(self):\n",
        "        super()._get_area()\n",
        "        return pow(self.radius, 2) * math.pi\n",
        "\n",
        "triangle = Triangle(3,4,6)\n",
        "circle = Сircle(5)\n",
        "print(triangle + circle)"
      ],
      "metadata": {
        "id": "H3GVNr69Muf3",
        "colab": {
          "base_uri": "https://localhost:8080/"
        },
        "outputId": "f53f2049-a38d-44fa-bcf7-b8de95c48e57"
      },
      "execution_count": null,
      "outputs": [
        {
          "output_type": "stream",
          "name": "stdout",
          "text": [
            "83.87249859167022\n"
          ]
        }
      ]
    },
    {
      "cell_type": "markdown",
      "source": [
        "7. (3б). Продемонструйте різницю між isinstance та issubclass."
      ],
      "metadata": {
        "id": "HCvR206YMvLK"
      }
    },
    {
      "cell_type": "code",
      "source": [
        "print(\"Is triangle an instance of a Triangle's class : \", isinstance(triangle, Triangle))\n",
        "print(\"Is circle an instance of a Triangle's class : \", isinstance(circle, Triangle))\n",
        "print(\"Is class Triangle a subclass of Figure : \",issubclass(Triangle, Figure))\n",
        "print(\"Is class Сircle a subclass of object : \",issubclass(Сircle, object))\n",
        "print(\"Is class Сircle a subclass of Triangle : \",issubclass(Сircle, Triangle))"
      ],
      "metadata": {
        "id": "L_V1bBvDM0GN",
        "colab": {
          "base_uri": "https://localhost:8080/"
        },
        "outputId": "41789120-cdcc-4fd3-f6f6-355dd4105e21"
      },
      "execution_count": null,
      "outputs": [
        {
          "output_type": "stream",
          "name": "stdout",
          "text": [
            "Is triangle an instance of a Triangle's class :  True\n",
            "Is circle an instance of a Triangle's class :  False\n",
            "Is class Triangle a subclass of Figure :  True\n",
            "Is class Сircle a subclass of object :  True\n",
            "Is class Сircle a subclass of Triangle :  False\n"
          ]
        }
      ]
    },
    {
      "cell_type": "markdown",
      "source": [
        "8. (13б). Створіть клас BankAccount з приватними атрибутами balance та account_number. Реалізуйте методи поповнення та зняття коштів, забезпечивши належну інкапсуляцію. Підказка: використовуйте декоратори property та setter."
      ],
      "metadata": {
        "id": "jjsaBZ-iM0Qq"
      }
    },
    {
      "cell_type": "code",
      "source": [
        "class BankAccount:\n",
        "    def __init__(self, balance, account_number):\n",
        "      self.__balance = balance\n",
        "      self.__account_number = account_number\n",
        "\n",
        "    @property\n",
        "    def balance(self):\n",
        "        return self.__balance\n",
        "\n",
        "    @property\n",
        "    def account_number(self):\n",
        "      return self.__account_number\n",
        "\n",
        "    @balance.setter\n",
        "    def balance(self, amount):\n",
        "      self.__balance = amount\n",
        "\n",
        "    def withdrawal(self, amount):\n",
        "      if amount < 0 :\n",
        "        print(\"It's invalid amound!\")\n",
        "      else:  self.balance = amount + self.balance\n",
        "\n",
        "\n",
        "    def deposit(self, amount):\n",
        "      if amount < 0 :\n",
        "        print(\"It's invalid amound!\")\n",
        "      else:   self.balance = self.balance - amount\n",
        "\n",
        "\n",
        "client1 = BankAccount(50,6)\n",
        "client1.withdrawal(5000)\n",
        "print(client1.balance)\n",
        "client1.withdrawal(5000)\n",
        "print(client1.balance)\n",
        "client1.deposit(50)\n",
        "print(client1.balance)"
      ],
      "metadata": {
        "id": "xCvZ7lh8M7YA",
        "colab": {
          "base_uri": "https://localhost:8080/"
        },
        "outputId": "cefd7c78-55b5-4ea2-854e-baa4e27b52f2"
      },
      "execution_count": 11,
      "outputs": [
        {
          "output_type": "stream",
          "name": "stdout",
          "text": [
            "5050\n",
            "10050\n",
            "10000\n"
          ]
        }
      ]
    },
    {
      "cell_type": "markdown",
      "source": [
        "9. (11б). Створіть клас Library, який містить список об'єктів типу Book. Реалізуйте методи для додавання книги, видалення книги та відображення списку книг."
      ],
      "metadata": {
        "id": "tIzL2SJTM8ft"
      }
    },
    {
      "cell_type": "code",
      "source": [
        "from ast import ListComp\n",
        "class Book:\n",
        "     def __init__(self, name, author = \"No author\", numberOfCopies  = 1):\n",
        "      self.__name = name\n",
        "      self.__author = author\n",
        "      self.__numberOfCopies= numberOfCopies\n",
        "\n",
        "     @property\n",
        "     def name(self):\n",
        "       return self.__name\n",
        "\n",
        "     @property\n",
        "     def author(self):\n",
        "       return self.__author\n",
        "\n",
        "     @property\n",
        "     def numberOfCopies(self):\n",
        "       return self.__numberOfCopies\n",
        "\n",
        "     @numberOfCopies.setter\n",
        "     def numberOfCopies(self, amount):\n",
        "      self.__numberOfCopies = amount\n",
        "\n",
        "     def __str__(self):\n",
        "      return f\"Book : '{self.name}' by {self.author} - {self.numberOfCopies} copies\"\n",
        "\n",
        "class Library:\n",
        "    def __init__(self):\n",
        "     self.__listOfBooks = list()\n",
        "\n",
        "    @property\n",
        "    def listOfBooks(self):\n",
        "       return self.__listOfBooks\n",
        "\n",
        "    def addNewBook(self, book):\n",
        "      for item in self.listOfBooks:\n",
        "        if item.name == book.name and item.author == book.author:\n",
        "           item.numberOfCopies += book.numberOfCopies\n",
        "           print(f\"This book is already available in the library, number of copies = {item.numberOfCopies}\")\n",
        "           return\n",
        "      self.listOfBooks.append(book)\n",
        "      print(f\"{book} was added to the library.\")\n",
        "\n",
        "    def removeBook(self, book):\n",
        "      for item in self.listOfBooks:\n",
        "        if item.name == book.name and item.author == book.author:\n",
        "          self.listOfBooks.remove(item)\n",
        "          print(f\"{book} was removed from the library.\")\n",
        "          return\n",
        "      print(\"There is no such book in the library.\")\n",
        "\n",
        "    def __str__(self):\n",
        "      if not self.listOfBooks:\n",
        "          return \"Library is empty.\"\n",
        "      printingBooks = str()\n",
        "      for book in self.listOfBooks:\n",
        "          printingBooks += str(book) +\".\\n\"\n",
        "      return printingBooks\n",
        "\n",
        "\n",
        "library = Library()\n",
        "print(f\"Before adding books to the library: {library} = {library.listOfBooks}.\")\n",
        "book1 = Book(\"Green light\", \"Matthew MacChonaughey\")\n",
        "book2 = Book(\"It Ends with Us : A Novel\", \"Colleen Hoover\", 12)\n",
        "book3 = Book(\"1984\", \"George Orwell\")\n",
        "book4 = Book(\"1984\", \"George Orwell\")\n",
        "book5 = Book(\"1984\", \"George Orwell\", 2)\n",
        "book6 = Book(\"The Lord of the Rings\", \"by J.R.R. Tolkien\")\n",
        "\n",
        "\n",
        "library.addNewBook(book1)\n",
        "library.addNewBook(book2)\n",
        "library.addNewBook(book3)\n",
        "library.addNewBook(book4)\n",
        "library.addNewBook(book5)\n",
        "library.addNewBook(book6)\n",
        "\n",
        "print(f\"Library : \\n{library}\")\n",
        "\n",
        "library.removeBook(book1)\n",
        "library.removeBook(book1)\n",
        "library.removeBook(book2)\n",
        "library.removeBook(book3)\n",
        "library.removeBook(book3)\n",
        "library.removeBook(book4)\n",
        "library.removeBook(book5)\n",
        "library.removeBook(book6)\n",
        "\n",
        "print(library)\n"
      ],
      "metadata": {
        "id": "HWxfJKLtNAUZ",
        "colab": {
          "base_uri": "https://localhost:8080/"
        },
        "outputId": "a478fd58-2e27-4739-f6a0-218afc401baf"
      },
      "execution_count": 39,
      "outputs": [
        {
          "output_type": "stream",
          "name": "stdout",
          "text": [
            "Before adding books to the library: Library is empty. = [].\n",
            "Book : 'Green light' by Matthew MacChonaughey - 1 copies was added to the library.\n",
            "Book : 'It Ends with Us : A Novel' by Colleen Hoover - 12 copies was added to the library.\n",
            "Book : '1984' by George Orwell - 1 copies was added to the library.\n",
            "This book is already available in the library, number of copies = 2\n",
            "This book is already available in the library, number of copies = 4\n",
            "Book : 'The Lord of the Rings' by by J.R.R. Tolkien - 1 copies was added to the library.\n",
            "Library : \n",
            "Book : 'Green light' by Matthew MacChonaughey - 1 copies.\n",
            "Book : 'It Ends with Us : A Novel' by Colleen Hoover - 12 copies.\n",
            "Book : '1984' by George Orwell - 4 copies.\n",
            "Book : 'The Lord of the Rings' by by J.R.R. Tolkien - 1 copies.\n",
            "\n",
            "Book : 'Green light' by Matthew MacChonaughey - 1 copies was removed from the library.\n",
            "There is no such book in the library.\n",
            "Book : 'It Ends with Us : A Novel' by Colleen Hoover - 12 copies was removed from the library.\n",
            "Book : '1984' by George Orwell - 4 copies was removed from the library.\n",
            "There is no such book in the library.\n",
            "There is no such book in the library.\n",
            "There is no such book in the library.\n",
            "Book : 'The Lord of the Rings' by by J.R.R. Tolkien - 1 copies was removed from the library.\n",
            "Library is empty.\n"
          ]
        }
      ]
    },
    {
      "cell_type": "markdown",
      "source": [
        "10. (13б). Створіть клас Person з атрибутами name та age. Створіть ще один клас Employee з такими атрибутами, як department та salary. Створіть клас Manager, який успадковує обидва класи Person та Employee. Продемонструйте використання множинної спадковості, створивши обʼєкт класу Manager та отримавши mro для цього класу."
      ],
      "metadata": {
        "id": "lmV8pAwwNIqu"
      }
    },
    {
      "cell_type": "code",
      "source": [
        "class Person:\n",
        "  def __init__(self, name, age):\n",
        "    self._name = name\n",
        "    self._age = age\n",
        "class Employee:\n",
        "  def __init__(self, department, salary):\n",
        "   self.__department = department\n",
        "   self.__salary = salary\n",
        "\n",
        "class Manager(Person, Employee):\n",
        "  def __init__(self, name, age, department, salary):\n",
        "    pass\n",
        "\n",
        "manager = Manager(\"Oleg\", 30, \"IT\", \"1000$\")\n",
        "print(Manager.mro())"
      ],
      "metadata": {
        "id": "R49grKlWNPeN",
        "colab": {
          "base_uri": "https://localhost:8080/"
        },
        "outputId": "6f3642a4-0762-4121-9114-96c9752b2406"
      },
      "execution_count": 46,
      "outputs": [
        {
          "output_type": "stream",
          "name": "stdout",
          "text": [
            "[<class '__main__.Manager'>, <class '__main__.Person'>, <class '__main__.Employee'>, <class 'object'>]\n"
          ]
        }
      ]
    },
    {
      "cell_type": "markdown",
      "source": [
        "# II. Iterator"
      ],
      "metadata": {
        "id": "dIJyUiNBFG8G"
      }
    },
    {
      "cell_type": "markdown",
      "source": [
        "11. (4б). Визначте рядок(str) з 4ма різними за значенням символами. Створіть ітератор на основі цього рядка. Викличте 5 разів функцію next на ітераторі, 4ри перших з них огорніть у ф-цію print()."
      ],
      "metadata": {
        "id": "13vsm0NyKIzL"
      }
    },
    {
      "cell_type": "code",
      "source": [
        "line = \"1#Ac\"\n",
        "\n",
        "iterator = iter(line)\n",
        "\n",
        "for token in range(5):\n",
        "  if token < 4:\n",
        "    print(next(iterator))\n",
        "  else: next(iterator)\n"
      ],
      "metadata": {
        "id": "81ntabAkKuz-",
        "colab": {
          "base_uri": "https://localhost:8080/",
          "height": 245
        },
        "outputId": "f1908627-e8fd-4ae2-9727-ed5561f730d3"
      },
      "execution_count": 49,
      "outputs": [
        {
          "output_type": "stream",
          "name": "stdout",
          "text": [
            "1\n",
            "#\n",
            "A\n",
            "c\n"
          ]
        },
        {
          "output_type": "error",
          "ename": "StopIteration",
          "evalue": "",
          "traceback": [
            "\u001b[0;31m---------------------------------------------------------------------------\u001b[0m",
            "\u001b[0;31mStopIteration\u001b[0m                             Traceback (most recent call last)",
            "\u001b[0;32m<ipython-input-49-8785703b56aa>\u001b[0m in \u001b[0;36m<cell line: 5>\u001b[0;34m()\u001b[0m\n\u001b[1;32m      6\u001b[0m   \u001b[0;32mif\u001b[0m \u001b[0mtoken\u001b[0m \u001b[0;34m<\u001b[0m \u001b[0;36m4\u001b[0m\u001b[0;34m:\u001b[0m\u001b[0;34m\u001b[0m\u001b[0;34m\u001b[0m\u001b[0m\n\u001b[1;32m      7\u001b[0m     \u001b[0mprint\u001b[0m\u001b[0;34m(\u001b[0m\u001b[0mnext\u001b[0m\u001b[0;34m(\u001b[0m\u001b[0miterator\u001b[0m\u001b[0;34m)\u001b[0m\u001b[0;34m)\u001b[0m\u001b[0;34m\u001b[0m\u001b[0;34m\u001b[0m\u001b[0m\n\u001b[0;32m----> 8\u001b[0;31m   \u001b[0;32melse\u001b[0m\u001b[0;34m:\u001b[0m \u001b[0mnext\u001b[0m\u001b[0;34m(\u001b[0m\u001b[0miterator\u001b[0m\u001b[0;34m)\u001b[0m\u001b[0;34m\u001b[0m\u001b[0;34m\u001b[0m\u001b[0m\n\u001b[0m",
            "\u001b[0;31mStopIteration\u001b[0m: "
          ]
        }
      ]
    },
    {
      "cell_type": "markdown",
      "source": [
        "А що якщо викликати цю ж функцію на рядку?"
      ],
      "metadata": {
        "id": "aekWHGXOLRsO"
      }
    },
    {
      "cell_type": "code",
      "source": [
        "next(line)"
      ],
      "metadata": {
        "id": "mxATGsErLV1i",
        "colab": {
          "base_uri": "https://localhost:8080/",
          "height": 141
        },
        "outputId": "f831ad3d-1eb6-4546-914f-9e06aafd19c2"
      },
      "execution_count": 50,
      "outputs": [
        {
          "output_type": "error",
          "ename": "TypeError",
          "evalue": "'str' object is not an iterator",
          "traceback": [
            "\u001b[0;31m---------------------------------------------------------------------------\u001b[0m",
            "\u001b[0;31mTypeError\u001b[0m                                 Traceback (most recent call last)",
            "\u001b[0;32m<ipython-input-50-c2758f9797d9>\u001b[0m in \u001b[0;36m<cell line: 1>\u001b[0;34m()\u001b[0m\n\u001b[0;32m----> 1\u001b[0;31m \u001b[0mnext\u001b[0m\u001b[0;34m(\u001b[0m\u001b[0mline\u001b[0m\u001b[0;34m)\u001b[0m\u001b[0;34m\u001b[0m\u001b[0;34m\u001b[0m\u001b[0m\n\u001b[0m",
            "\u001b[0;31mTypeError\u001b[0m: 'str' object is not an iterator"
          ]
        }
      ]
    },
    {
      "cell_type": "markdown",
      "source": [
        " 12. (5б). Опишіть своїми словами в одному реченні, як ви розумієте різницю між ітерабельними обʼєктами та ітераторами (можна на прикладі)."
      ],
      "metadata": {
        "id": "XwtMEopwJ4pH"
      }
    },
    {
      "cell_type": "markdown",
      "source": [],
      "metadata": {
        "id": "9Qlo_YIuYjtr"
      }
    },
    {
      "cell_type": "markdown",
      "source": [
        "Я розумію це так що ітерабельний об'єкт це той по якому ми можемо здійснювати ітерацію, тобто проходити по елементах для перебору за допомогою циклу, наприкад, такими об'єктами є ists, tuples, dicts, sets. А Ітератори це об'єкт який використовується для ітерації над ітерованими об'єктами. Вони зберігають поточний елемент та овертають кожен наступний за допомогою методу next()"
      ],
      "metadata": {
        "id": "-sHrODc3KFn8"
      }
    },
    {
      "cell_type": "markdown",
      "source": [
        "13. (11б). Створіть клас, що має визначений Iterator Protocol та при кожному виклику next повертає літери англійської абетки, поки вони не вичерпаються."
      ],
      "metadata": {
        "id": "E9qJWmNbK8Gl"
      }
    },
    {
      "cell_type": "code",
      "source": [
        "class Alphabet:\n",
        "    def __init__(self):\n",
        "      self.startIndex = 96\n",
        "\n",
        "    def __iter__(self):\n",
        "      return self\n",
        "\n",
        "    def __next__(self):\n",
        "      if self.startIndex < ord('z'):\n",
        "        self.startIndex += 1\n",
        "        return chr(self.startIndex)\n",
        "      raise StopIteration\n",
        "\n",
        "myAlphabet = Alphabet()\n",
        "for letter in myAlphabet:\n",
        "  print(letter)\n"
      ],
      "metadata": {
        "id": "cqx-g_RsLo6I",
        "colab": {
          "base_uri": "https://localhost:8080/"
        },
        "outputId": "3b77646a-fd9b-4fe9-f6b1-fd44f7101ae6"
      },
      "execution_count": 65,
      "outputs": [
        {
          "output_type": "stream",
          "name": "stdout",
          "text": [
            "a\n",
            "b\n",
            "c\n",
            "d\n",
            "e\n",
            "f\n",
            "g\n",
            "h\n",
            "i\n",
            "j\n",
            "k\n",
            "l\n",
            "m\n",
            "n\n",
            "o\n",
            "p\n",
            "q\n",
            "r\n",
            "s\n",
            "t\n",
            "u\n",
            "v\n",
            "w\n",
            "x\n",
            "y\n",
            "z\n"
          ]
        }
      ]
    },
    {
      "cell_type": "markdown",
      "source": [
        "# Вітаю! Ви велика(ий) молодець, що впоралась(вся). Похваліть себе та побалуйте чимось приємним. Я Вами пишаюся."
      ],
      "metadata": {
        "id": "Z3E3S_s1Fv7-"
      }
    }
  ]
}