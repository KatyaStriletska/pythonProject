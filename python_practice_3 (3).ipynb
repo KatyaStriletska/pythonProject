{
  "nbformat": 4,
  "nbformat_minor": 0,
  "metadata": {
    "colab": {
      "provenance": []
    },
    "kernelspec": {
      "name": "python3",
      "display_name": "Python 3"
    },
    "language_info": {
      "name": "python"
    }
  },
  "cells": [
    {
      "cell_type": "markdown",
      "source": [
        "# I. Оператори порівняння та логічні оператори. Умови."
      ],
      "metadata": {
        "id": "qDEi2Pi-4yUC"
      }
    },
    {
      "cell_type": "markdown",
      "source": [
        "1. Створіть цілочисленну змінну зі своїм щасливим або улюбленим числом. Напишіть код, який би автоматизовував наступну задачу.\n",
        "\n",
        "Якщо число парне, помножте його на 2 та виведіть результат на екран.\n",
        "\n",
        "Але якщо число непарне, помножте його на 3 та додайте 1 і виведіть на екран."
      ],
      "metadata": {
        "id": "3v8D4Dkm43Ua"
      }
    },
    {
      "cell_type": "code",
      "execution_count": 3,
      "metadata": {
        "id": "dlVjc-Nu4bmb",
        "colab": {
          "base_uri": "https://localhost:8080/"
        },
        "outputId": "ec6754b8-1c48-4c0d-cbf7-0d863a38a153"
      },
      "outputs": [
        {
          "output_type": "stream",
          "name": "stdout",
          "text": [
            "10\n"
          ]
        }
      ],
      "source": [
        "favorite_num = 3\n",
        "if favorite_num % 2 == 0:\n",
        "    favorite_num *= 2\n",
        "else :\n",
        "    favorite_num =  favorite_num * 3 + 1\n",
        "print(favorite_num)"
      ]
    },
    {
      "cell_type": "markdown",
      "source": [
        "2. Створіть змінну, що посилається на список. Якщо список пустий, додайте будь-який елемент у кінець списку. Якщо ж ні, то нічого не робіть."
      ],
      "metadata": {
        "id": "H669P0QK5BI_"
      }
    },
    {
      "cell_type": "code",
      "source": [
        "list_var = [1, 2, 3, 3]\n",
        "if len(list_var) == 0 :\n",
        "  list_var.append(10)\n",
        "print(list_var)"
      ],
      "metadata": {
        "id": "ecWlfra45f6E",
        "colab": {
          "base_uri": "https://localhost:8080/"
        },
        "outputId": "897ecfbf-bf6e-44f3-b31e-6c9146ce6187"
      },
      "execution_count": 5,
      "outputs": [
        {
          "output_type": "stream",
          "name": "stdout",
          "text": [
            "[1, 2, 3, 3]\n"
          ]
        }
      ]
    },
    {
      "cell_type": "markdown",
      "source": [
        "3. Створіть рядок зі своїм імʼям латинкою. Напишіть код, який би автоматизовував наступну задачу.\n",
        "\n",
        "Якщо в імені є літера \"а\"\n",
        " або \"i\", Виведіть на екран повідомлення \"A or I is in the name\".\n",
        "\n",
        "\n",
        "\n",
        "Якщо в імені є літери \"o\" та \"n\", Виведіть на екран повідомлення \"O and N is in the name\".\n",
        "\n",
        "Також якщо в імені немає літери \"о\", але є \"n\", Виведіть на екран повідомлення \"Only N is in the name\".\n",
        "\n",
        "В решті випадків виведіть на екран повідомлення \"There is no N in the name, but there might be O\".\n",
        "\n",
        "Зверніть увагу, що, наприклад, для імені \"Antonina\" буде виведено два повідомлення."
      ],
      "metadata": {
        "id": "h9Y3cMUd5h85"
      }
    },
    {
      "cell_type": "code",
      "source": [
        "my_name = \"Kateryna\"\n",
        "if \"a\" in my_name.lower() or \"i\" in my_name.lower():\n",
        "    print(\"A or I is in the name\")\n",
        "if \"o\" in my_name.lower() and \"n\" in my_name.lower():\n",
        "    print(\"O and N is in the name\")\n",
        "elif \"o\" not in my_name.lower() and \"n\" in my_name.lower():\n",
        "     print(\"Only N is in the name\")\n",
        "else : print(\"There is no N in the name, but there might be O\")"
      ],
      "metadata": {
        "id": "bUH4LUx35u52",
        "colab": {
          "base_uri": "https://localhost:8080/"
        },
        "outputId": "cb39e5ad-2223-4f1d-cbf5-2389e54c0423"
      },
      "execution_count": 10,
      "outputs": [
        {
          "output_type": "stream",
          "name": "stdout",
          "text": [
            "A or I is in the name\n",
            "Only N is in the name\n"
          ]
        }
      ]
    },
    {
      "cell_type": "markdown",
      "source": [
        "# II. Comprehensions."
      ],
      "metadata": {
        "id": "wPCXJv4354cU"
      }
    },
    {
      "cell_type": "markdown",
      "source": [
        "4. Створіть список, використовуючи if (не if-else), range та comprehension."
      ],
      "metadata": {
        "id": "jULLW5jN55Pw"
      }
    },
    {
      "cell_type": "code",
      "source": [
        "list_var = [x**2 for x in range(11) if x%2 == 0]\n",
        "print(list_var)"
      ],
      "metadata": {
        "id": "mlZalnVC6W3F",
        "colab": {
          "base_uri": "https://localhost:8080/"
        },
        "outputId": "d7398772-28a9-4408-8496-a6925bbbc26b"
      },
      "execution_count": null,
      "outputs": [
        {
          "output_type": "stream",
          "name": "stdout",
          "text": [
            "[0, 4, 16, 36, 64, 100]\n"
          ]
        }
      ]
    },
    {
      "cell_type": "markdown",
      "source": [
        "5. Створіть словник, використовуючи dict comprehension, що містить if else. Коли слід використовувати comprehensions, а коли їх слід уникати?"
      ],
      "metadata": {
        "id": "LqhEQ4JW6XcC"
      }
    },
    {
      "cell_type": "code",
      "source": [
        "dict_var = {(x) : (\"It's a even number!\" if x % 2==0 else \"It's an odd number\" ) for x in range(10) }\n",
        "print(dict_var)"
      ],
      "metadata": {
        "id": "1yVaFbOs6hta",
        "colab": {
          "base_uri": "https://localhost:8080/"
        },
        "outputId": "7d7bfd29-60a9-48b1-bbb0-6d01d0bb5152"
      },
      "execution_count": 11,
      "outputs": [
        {
          "output_type": "stream",
          "name": "stdout",
          "text": [
            "{0: \"It's a even number!\", 1: \"It's an odd number\", 2: \"It's a even number!\", 3: \"It's an odd number\", 4: \"It's a even number!\", 5: \"It's an odd number\", 6: \"It's a even number!\", 7: \"It's an odd number\", 8: \"It's a even number!\", 9: \"It's an odd number\"}\n"
          ]
        }
      ]
    },
    {
      "cell_type": "markdown",
      "source": [
        "*місце для відповіді"
      ],
      "metadata": {
        "id": "wbkzNhKq6hzz"
      }
    },
    {
      "cell_type": "markdown",
      "source": [
        "6. Створіть список з рядками та запишіть його у змінну. Створіть ще один список на основі попереднього, де кожен рядок буде містити тільки три перших заглавних символи. Наприклад: ['hello', 'i', 'dont', 'care'] -> ['HEL', 'I', 'DON', 'CAR']. Використання comprehensions обовʼязкове."
      ],
      "metadata": {
        "id": "ZlqB8G3G6lHP"
      }
    },
    {
      "cell_type": "code",
      "source": [
        "list_var = ['hello', 'i', 'dont', 'care']\n",
        "new_list = [word[slice(0,3)].upper() for word in list_var ]\n",
        "print(list_var)\n",
        "print(new_list)"
      ],
      "metadata": {
        "id": "nw6rz0bR60VC",
        "colab": {
          "base_uri": "https://localhost:8080/"
        },
        "outputId": "bacfe7fd-fe21-4b59-980e-88d90e3f7dff"
      },
      "execution_count": null,
      "outputs": [
        {
          "output_type": "stream",
          "name": "stdout",
          "text": [
            "['hello', 'i', 'dont', 'care']\n",
            "['HEL', 'I', 'DON', 'CAR']\n"
          ]
        }
      ]
    },
    {
      "cell_type": "markdown",
      "source": [
        "# III. Цикли."
      ],
      "metadata": {
        "id": "Tj573IAH64Fz"
      }
    },
    {
      "cell_type": "markdown",
      "source": [
        "7. Продемонструйте роботу циклу while. Не можна використовувати True для запуску циклу, щоб уникнути безкінечного циклу!"
      ],
      "metadata": {
        "id": "tN_33xdE65H5"
      }
    },
    {
      "cell_type": "code",
      "source": [
        "list_var = [1, 2, 3, 4]\n",
        "while len(list_var) > 0:\n",
        "    print(list_var.pop())"
      ],
      "metadata": {
        "id": "Kd9FO6yG63P5",
        "colab": {
          "base_uri": "https://localhost:8080/"
        },
        "outputId": "7459491e-0e86-48ec-820a-f1e67f20c3b0"
      },
      "execution_count": 12,
      "outputs": [
        {
          "output_type": "stream",
          "name": "stdout",
          "text": [
            "4\n",
            "3\n",
            "2\n",
            "1\n"
          ]
        }
      ]
    },
    {
      "cell_type": "markdown",
      "source": [
        "8. Напишіть програму, яка виведе на екран непарні числа в діапазоні від 0 до 20 включно."
      ],
      "metadata": {
        "id": "x2CmfZO-7pW0"
      }
    },
    {
      "cell_type": "code",
      "source": [
        "for i in range(21):\n",
        "    if(i % 2 == 1):\n",
        "        print(i)"
      ],
      "metadata": {
        "id": "aCSRYA6s7tkF",
        "colab": {
          "base_uri": "https://localhost:8080/"
        },
        "outputId": "9b31b56e-b17a-4e8c-abf4-761c24a14528"
      },
      "execution_count": 15,
      "outputs": [
        {
          "output_type": "stream",
          "name": "stdout",
          "text": [
            "1\n",
            "3\n",
            "5\n",
            "7\n",
            "9\n",
            "11\n",
            "13\n",
            "15\n",
            "17\n",
            "19\n"
          ]
        }
      ]
    },
    {
      "cell_type": "markdown",
      "source": [
        "9. Створіть список з елементами булевого типу або None. Використовуючи цикли, отримайте в результаті список з кортежами, де перший елемент кортежу - індекс(ціле число), а другий елемент - відповідне значення з першого списку.\n",
        "\n",
        "Наприклад, [True, True, None, False] -> [(0, True), (1, True), (2, None), (3, False)]"
      ],
      "metadata": {
        "id": "MDWNocZD7t_B"
      }
    },
    {
      "cell_type": "code",
      "source": [
        "my_list = [True, True, None, False]\n",
        "new_list = list()\n",
        "i = 0\n",
        "while i < len(my_list):\n",
        "    new_list.append((i, my_list[i]))\n",
        "    i+=1\n",
        "print(my_list)\n",
        "print(new_list)"
      ],
      "metadata": {
        "colab": {
          "base_uri": "https://localhost:8080/"
        },
        "id": "xseo5_KdKCrE",
        "outputId": "5472d85e-63d2-4fc4-fea0-ffd0e969d755"
      },
      "execution_count": 16,
      "outputs": [
        {
          "output_type": "stream",
          "name": "stdout",
          "text": [
            "[True, True, None, False]\n",
            "[(0, True), (1, True), (2, None), (3, False)]\n"
          ]
        }
      ]
    },
    {
      "cell_type": "markdown",
      "source": [
        "10. Створіть словник, де ключі - назви книжок, а значення - їхня кількість у наявності в Вашій міні-бібліотеці. Бібліотека має містити щонайменше 6 книжок (6 пар значень у словнику) і щонайбільше 10 (пар значень). Використовуючи цикли, оновіть словник (не створюйте новий) так, щоби кількість книг у наявності збільшилося на 5 кожної книги. Наприклад,\n",
        "{'It': 3, 'Fault stars': 10, 'Bible': 17, 'Psychological romance': 4, 'Harry Potter': 13} -> {'It': 8, 'Fault stars': 15, 'Bible': 22, 'Psychological romance': 9, 'Harry Potter': 18}"
      ],
      "metadata": {
        "id": "-6XUqlcG7zKs"
      }
    },
    {
      "cell_type": "code",
      "source": [
        "mini_library = {\n",
        "    'Pride and Prejudice': 10,\n",
        "    'Alkhimik': 5,\n",
        "    'Harry Potter': 2,\n",
        "    'Greenlights': 77,\n",
        "    'Green Mile': 28,\n",
        "    'The adventures of the little prince': 16,\n",
        "    'The Da Vinci Code':6\n",
        "}\n",
        "print(\"Dictionary before the update : \", mini_library)\n",
        "\n",
        "for key, value in mini_library.items():\n",
        "    mini_library[key] = value + 5\n",
        "\n",
        "print(\"Dictionary after the update  : \", mini_library)"
      ],
      "metadata": {
        "id": "Ceoj9wwb791q",
        "colab": {
          "base_uri": "https://localhost:8080/"
        },
        "outputId": "79e3cb98-b1ed-453a-fe37-ea3a5a436a7f"
      },
      "execution_count": null,
      "outputs": [
        {
          "output_type": "stream",
          "name": "stdout",
          "text": [
            "Dictionary before the update :  {'Pride and Prejudice': 10, 'Alkhimik': 5, 'Harry Potter': 2, 'Greenlights': 77, 'Green Mile': 28, 'The adventures of the little prince': 16, 'The Da Vinci Code': 6}\n",
            "Dictionary after the update  :  {'Pride and Prejudice': 15, 'Alkhimik': 10, 'Harry Potter': 7, 'Greenlights': 82, 'Green Mile': 33, 'The adventures of the little prince': 21, 'The Da Vinci Code': 11}\n"
          ]
        }
      ]
    },
    {
      "cell_type": "markdown",
      "source": [
        "11. Визначте цілочислену змінну n, що належить проміжку від 4 до 10 включно. Використовуючи цикли, виведіть в консоль наступний патерн.\n",
        "\n",
        "#\n",
        "##\n",
        "###\n",
        "####\n",
        "\n",
        "... #*n\n"
      ],
      "metadata": {
        "id": "QLzyJM288AC7"
      }
    },
    {
      "cell_type": "code",
      "source": [
        "n = 4\n",
        "i = 0\n",
        "while i < n:\n",
        "  i+=1\n",
        "  print(\"#\" * i)\n"
      ],
      "metadata": {
        "id": "KOpng87s8Duz",
        "colab": {
          "base_uri": "https://localhost:8080/"
        },
        "outputId": "323c6cd1-2021-49e5-d4ad-2975593e72c9"
      },
      "execution_count": null,
      "outputs": [
        {
          "output_type": "stream",
          "name": "stdout",
          "text": [
            "#\n",
            "##\n",
            "###\n",
            "####\n"
          ]
        }
      ]
    },
    {
      "cell_type": "markdown",
      "source": [
        "12. Гра \"Нумо вгадай\".\n",
        "Розробіть просту гру, де користувач має вгадати випадкове число від 1 до 100. Для генерації випадкового числа використовуйте функцію random.randint(a, b) (тут a та b включно). Для отримання числа з консолі використовуйте функцію input(), результат якої обовʼязково явно приведіть до типу int.\n",
        "\n",
        "Підказка: використовуйте цикл while та умови if-else, щоб повідомити користувачу піказки (напр. \"Більше\", \"Менше\") поки користувач не вгадає. По завершенню виведіть кількість спроб, які знадобилися для вгадування."
      ],
      "metadata": {
        "id": "_bd-bqAT8EHn"
      }
    },
    {
      "cell_type": "code",
      "source": [
        "import random\n",
        "\n",
        "print(\"Welcome to the game <Let's guess!>\", \"\\nYour task is to guess random number in range from 1 to 100.\")\n",
        "game_counter = 0;\n",
        "start = 1\n",
        "while start == 1:\n",
        "  game_counter += 1\n",
        "  print(\"Game № \", game_counter)\n",
        "  try_counter = 0\n",
        "  right_num = random.randint(1, 100)\n",
        "  assumed_num = -1\n",
        "  while assumed_num != right_num:\n",
        "    print(\"Inut assumed number: \")\n",
        "    assumed_num = int(input())\n",
        "    if right_num > assumed_num:\n",
        "      print(\"Try again! Right number is larger than your :(\")\n",
        "    elif right_num < assumed_num:\n",
        "      print(\"Try again! Right number is smaller than your :(\")\n",
        "    try_counter += 1\n",
        "  print(f'Congratulations! You guessed the number on {try_counter} tries!')\n",
        "  print(\"If you want to play again enter- 1\\nTo stop enter                  - 0\")\n",
        "  start = int(input())\n",
        "print(\"Thank you for this game (✿◕‿◕✿)\")"
      ],
      "metadata": {
        "id": "IK9nnxFK8Hkl",
        "colab": {
          "base_uri": "https://localhost:8080/"
        },
        "outputId": "075d5a39-9417-4691-ec2d-e91e31bd022a"
      },
      "execution_count": 17,
      "outputs": [
        {
          "output_type": "stream",
          "name": "stdout",
          "text": [
            "Welcome to the game <Let's guess!> \n",
            "Your task is to guess random number in range from 1 to 100.\n",
            "Game №  1\n",
            "Inut assumed number: \n",
            "50\n",
            "Try again! Right number is larger than your :(\n",
            "Inut assumed number: \n",
            "60\n",
            "Try again! Right number is larger than your :(\n",
            "Inut assumed number: \n",
            "70\n",
            "Try again! Right number is larger than your :(\n",
            "Inut assumed number: \n",
            "100\n",
            "Try again! Right number is smaller than your :(\n",
            "Inut assumed number: \n",
            "80\n",
            "Try again! Right number is larger than your :(\n",
            "Inut assumed number: \n",
            "90\n",
            "Try again! Right number is larger than your :(\n",
            "Inut assumed number: \n",
            "95\n",
            "Try again! Right number is smaller than your :(\n",
            "Inut assumed number: \n",
            "93\n",
            "Try again! Right number is larger than your :(\n",
            "Inut assumed number: \n",
            "94\n",
            "Congratulations! You guessed the number on 9 tries!\n",
            "If you want to play again enter- 1\n",
            "To stop enter                  - 0\n",
            "1\n",
            "Game №  2\n",
            "Inut assumed number: \n",
            "50\n",
            "Try again! Right number is larger than your :(\n",
            "Inut assumed number: \n",
            "80\n",
            "Try again! Right number is smaller than your :(\n",
            "Inut assumed number: \n",
            "60\n",
            "Try again! Right number is larger than your :(\n",
            "Inut assumed number: \n",
            "75\n",
            "Try again! Right number is larger than your :(\n",
            "Inut assumed number: \n",
            "79\n",
            "Try again! Right number is smaller than your :(\n",
            "Inut assumed number: \n",
            "77\n",
            "Try again! Right number is smaller than your :(\n",
            "Inut assumed number: \n",
            "76\n",
            "Congratulations! You guessed the number on 7 tries!\n",
            "If you want to play again enter- 1\n",
            "To stop enter                  - 0\n",
            "0\n",
            "Thank you for this game (✿◕‿◕✿)\n"
          ]
        }
      ]
    },
    {
      "cell_type": "markdown",
      "source": [
        "# Вітаю! Ви велика(ий) молодець, що впоралась(вся). Похваліть себе та побалуйте чимось приємним. Я Вами пишаюся."
      ],
      "metadata": {
        "id": "PXoXWb7Z8IGi"
      }
    }
  ]
}